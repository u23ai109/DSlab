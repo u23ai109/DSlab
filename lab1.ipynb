{
 "cells": [
  {
   "cell_type": "code",
   "execution_count": 1,
   "id": "f19877f3-1857-4b8b-a709-b9bcead7e275",
   "metadata": {},
   "outputs": [],
   "source": [
    "import seaborn as sns\n",
    "import pandas as pd\n",
    "import matplotlib.pyplot as plt\n",
    "df = sns.load_dataset('titanic')"
   ]
  },
  {
   "cell_type": "code",
   "execution_count": 2,
   "id": "7d40b24d-7bb6-4fad-8d67-fc127e572428",
   "metadata": {},
   "outputs": [
    {
     "name": "stdout",
     "output_type": "stream",
     "text": [
      "sex\n",
      "male      577\n",
      "female    314\n",
      "Name: count, dtype: int64\n"
     ]
    }
   ],
   "source": [
    "print(df['sex'].value_counts())"
   ]
  },
  {
   "cell_type": "code",
   "execution_count": 3,
   "id": "62d709bf-a158-4981-b26e-3a6cd36ff847",
   "metadata": {},
   "outputs": [
    {
     "data": {
      "text/html": [
       "<div>\n",
       "<style scoped>\n",
       "    .dataframe tbody tr th:only-of-type {\n",
       "        vertical-align: middle;\n",
       "    }\n",
       "\n",
       "    .dataframe tbody tr th {\n",
       "        vertical-align: top;\n",
       "    }\n",
       "\n",
       "    .dataframe thead th {\n",
       "        text-align: right;\n",
       "    }\n",
       "</style>\n",
       "<table border=\"1\" class=\"dataframe\">\n",
       "  <thead>\n",
       "    <tr style=\"text-align: right;\">\n",
       "      <th></th>\n",
       "      <th>survived</th>\n",
       "      <th>pclass</th>\n",
       "      <th>age</th>\n",
       "      <th>sibsp</th>\n",
       "      <th>parch</th>\n",
       "      <th>fare</th>\n",
       "    </tr>\n",
       "  </thead>\n",
       "  <tbody>\n",
       "    <tr>\n",
       "      <th>count</th>\n",
       "      <td>891.000000</td>\n",
       "      <td>891.000000</td>\n",
       "      <td>714.000000</td>\n",
       "      <td>891.000000</td>\n",
       "      <td>891.000000</td>\n",
       "      <td>891.000000</td>\n",
       "    </tr>\n",
       "    <tr>\n",
       "      <th>mean</th>\n",
       "      <td>0.383838</td>\n",
       "      <td>2.308642</td>\n",
       "      <td>29.699118</td>\n",
       "      <td>0.523008</td>\n",
       "      <td>0.381594</td>\n",
       "      <td>32.204208</td>\n",
       "    </tr>\n",
       "    <tr>\n",
       "      <th>std</th>\n",
       "      <td>0.486592</td>\n",
       "      <td>0.836071</td>\n",
       "      <td>14.526497</td>\n",
       "      <td>1.102743</td>\n",
       "      <td>0.806057</td>\n",
       "      <td>49.693429</td>\n",
       "    </tr>\n",
       "    <tr>\n",
       "      <th>min</th>\n",
       "      <td>0.000000</td>\n",
       "      <td>1.000000</td>\n",
       "      <td>0.420000</td>\n",
       "      <td>0.000000</td>\n",
       "      <td>0.000000</td>\n",
       "      <td>0.000000</td>\n",
       "    </tr>\n",
       "    <tr>\n",
       "      <th>25%</th>\n",
       "      <td>0.000000</td>\n",
       "      <td>2.000000</td>\n",
       "      <td>20.125000</td>\n",
       "      <td>0.000000</td>\n",
       "      <td>0.000000</td>\n",
       "      <td>7.910400</td>\n",
       "    </tr>\n",
       "    <tr>\n",
       "      <th>50%</th>\n",
       "      <td>0.000000</td>\n",
       "      <td>3.000000</td>\n",
       "      <td>28.000000</td>\n",
       "      <td>0.000000</td>\n",
       "      <td>0.000000</td>\n",
       "      <td>14.454200</td>\n",
       "    </tr>\n",
       "    <tr>\n",
       "      <th>75%</th>\n",
       "      <td>1.000000</td>\n",
       "      <td>3.000000</td>\n",
       "      <td>38.000000</td>\n",
       "      <td>1.000000</td>\n",
       "      <td>0.000000</td>\n",
       "      <td>31.000000</td>\n",
       "    </tr>\n",
       "    <tr>\n",
       "      <th>max</th>\n",
       "      <td>1.000000</td>\n",
       "      <td>3.000000</td>\n",
       "      <td>80.000000</td>\n",
       "      <td>8.000000</td>\n",
       "      <td>6.000000</td>\n",
       "      <td>512.329200</td>\n",
       "    </tr>\n",
       "  </tbody>\n",
       "</table>\n",
       "</div>"
      ],
      "text/plain": [
       "         survived      pclass         age       sibsp       parch        fare\n",
       "count  891.000000  891.000000  714.000000  891.000000  891.000000  891.000000\n",
       "mean     0.383838    2.308642   29.699118    0.523008    0.381594   32.204208\n",
       "std      0.486592    0.836071   14.526497    1.102743    0.806057   49.693429\n",
       "min      0.000000    1.000000    0.420000    0.000000    0.000000    0.000000\n",
       "25%      0.000000    2.000000   20.125000    0.000000    0.000000    7.910400\n",
       "50%      0.000000    3.000000   28.000000    0.000000    0.000000   14.454200\n",
       "75%      1.000000    3.000000   38.000000    1.000000    0.000000   31.000000\n",
       "max      1.000000    3.000000   80.000000    8.000000    6.000000  512.329200"
      ]
     },
     "execution_count": 3,
     "metadata": {},
     "output_type": "execute_result"
    }
   ],
   "source": [
    "df.describe()"
   ]
  },
  {
   "cell_type": "markdown",
   "id": "a280b482-d085-4c5e-88a8-9d265e05fd28",
   "metadata": {},
   "source": [
    "__Absolute frequency__"
   ]
  },
  {
   "cell_type": "code",
   "execution_count": 5,
   "id": "a5aad807-192b-47f4-b939-4db67de26db8",
   "metadata": {},
   "outputs": [
    {
     "name": "stdout",
     "output_type": "stream",
     "text": [
      "class\n",
      "Third     491\n",
      "First     216\n",
      "Second    184\n",
      "Name: count, dtype: int64\n"
     ]
    }
   ],
   "source": [
    "a=df['class'].value_counts()\n",
    "print(a)"
   ]
  },
  {
   "cell_type": "markdown",
   "id": "c3d673ed-26d2-4425-bfc8-aca19872731d",
   "metadata": {},
   "source": [
    "__Relative frequency__"
   ]
  },
  {
   "cell_type": "code",
   "execution_count": 7,
   "id": "4c9df414-9c26-4da1-8bf9-f6f6cf2f9cf4",
   "metadata": {},
   "outputs": [
    {
     "name": "stdout",
     "output_type": "stream",
     "text": [
      "class\n",
      "Third     0.551066\n",
      "First     0.242424\n",
      "Second    0.206510\n",
      "Name: proportion, dtype: float64\n"
     ]
    }
   ],
   "source": [
    "b=df['class'].value_counts(normalize=True)\n",
    "print(b)"
   ]
  },
  {
   "cell_type": "code",
   "execution_count": 8,
   "id": "e721c87d-b222-4742-aabd-ce7cc06e78a7",
   "metadata": {},
   "outputs": [
    {
     "name": "stdout",
     "output_type": "stream",
     "text": [
      "count       891\n",
      "unique        3\n",
      "top       Third\n",
      "freq        491\n",
      "Name: class, dtype: object\n"
     ]
    }
   ],
   "source": [
    "print(df['class'].describe())"
   ]
  },
  {
   "cell_type": "markdown",
   "id": "c3b8a89d-4813-4736-be02-56937e148de7",
   "metadata": {},
   "source": [
    "__Cumulative frequency__"
   ]
  },
  {
   "cell_type": "code",
   "execution_count": 10,
   "id": "c5e12a3a-eea5-4f29-bdf0-c94f7971fbf0",
   "metadata": {},
   "outputs": [
    {
     "name": "stdout",
     "output_type": "stream",
     "text": [
      "class\n",
      "Third     491\n",
      "First     707\n",
      "Second    891\n",
      "Name: count, dtype: int64\n"
     ]
    }
   ],
   "source": [
    "c=df['class'].value_counts().cumsum()\n",
    "print(c)"
   ]
  },
  {
   "cell_type": "markdown",
   "id": "67477400-5d4f-4936-b5bb-c58600dd4793",
   "metadata": {},
   "source": [
    "__Seems like,population based on classes are, Third class passengers (55.1%) ,first(24.24%) and second class(20.65%)__"
   ]
  },
  {
   "cell_type": "code",
   "execution_count": 12,
   "id": "36f7470c-99b1-4a8c-b5f5-932b8268d0ee",
   "metadata": {},
   "outputs": [
    {
     "name": "stdout",
     "output_type": "stream",
     "text": [
      "        abs       rel  cum\n",
      "class                     \n",
      "Third   491  0.551066  491\n",
      "First   216  0.242424  707\n",
      "Second  184  0.206510  891\n"
     ]
    }
   ],
   "source": [
    "print(pd.DataFrame({\n",
    "    'abs':a,\n",
    "    'rel':b,\n",
    "    'cum':c\n",
    "})\n",
    ")"
   ]
  },
  {
   "cell_type": "code",
   "execution_count": 13,
   "id": "1e0589c1-ad15-47b3-a9c3-431d2fc36a22",
   "metadata": {},
   "outputs": [
    {
     "name": "stdout",
     "output_type": "stream",
     "text": [
      "survived    0    1\n",
      "sex               \n",
      "female     81  233\n",
      "male      468  109\n"
     ]
    }
   ],
   "source": [
    "table=pd.crosstab(df['sex'],df['survived'])\n",
    "print(table)"
   ]
  },
  {
   "cell_type": "code",
   "execution_count": 14,
   "id": "c87c8fa1-b4a0-4c9a-8cac-2a5c2ff42827",
   "metadata": {},
   "outputs": [
    {
     "name": "stdout",
     "output_type": "stream",
     "text": [
      "survived    0    1  All\n",
      "sex                    \n",
      "female     81  233  314\n",
      "male      468  109  577\n",
      "All       549  342  891\n"
     ]
    }
   ],
   "source": [
    "table=pd.crosstab(df['sex'],df['survived'],margins=True)\n",
    "print(table)"
   ]
  },
  {
   "cell_type": "code",
   "execution_count": 15,
   "id": "97a32b9c-4d03-4166-865e-ea1ff3bfe01e",
   "metadata": {},
   "outputs": [
    {
     "name": "stdout",
     "output_type": "stream",
     "text": [
      "survived         0         1\n",
      "sex                         \n",
      "female    0.090909  0.261504\n",
      "male      0.525253  0.122334\n"
     ]
    }
   ],
   "source": [
    "#joint probability\n",
    "table=pd.crosstab(df['sex'],df['survived'],normalize=True)\n",
    "print(table)"
   ]
  },
  {
   "cell_type": "markdown",
   "id": "be31f50d-3f82-45a5-8740-9f482dc0802a",
   "metadata": {},
   "source": [
    "__We can see that, probability of beaing a female AND being a survivour is 26.15%__"
   ]
  },
  {
   "cell_type": "code",
   "execution_count": 17,
   "id": "1cf9f282-57f2-44af-b82c-9323efc64a4c",
   "metadata": {},
   "outputs": [
    {
     "name": "stdout",
     "output_type": "stream",
     "text": [
      "0.35241301907968575\n",
      "0.3838383838383838\n"
     ]
    }
   ],
   "source": [
    "#marginal probability\n",
    "print(df['sex'].value_counts(normalize=True)['female'])\n",
    "print(df['survived'].value_counts(normalize=True)[1])"
   ]
  },
  {
   "cell_type": "markdown",
   "id": "e4e644bd-9f43-48f8-aa45-33833aa4ad5f",
   "metadata": {},
   "source": [
    "__It is observed that 35.24% of the passenger population is female.\n",
    "And Only 38.38% of the population survived in the disaster__"
   ]
  },
  {
   "cell_type": "code",
   "execution_count": 19,
   "id": "451d1bce-0e72-453f-b4c7-b3b1a54b3b49",
   "metadata": {},
   "outputs": [
    {
     "name": "stdout",
     "output_type": "stream",
     "text": [
      "survived         0         1\n",
      "sex                         \n",
      "female    0.257962  0.742038\n",
      "male      0.811092  0.188908\n",
      "------------------------------------------------------------------------\n",
      "sex         female      male\n",
      "survived                    \n",
      "0         0.147541  0.852459\n",
      "1         0.681287  0.318713\n"
     ]
    }
   ],
   "source": [
    "#conditional probability\n",
    "print(pd.crosstab(df['sex'],df['survived'],normalize='index'))\n",
    "print('------------------------------------------------------------------------')\n",
    "print(pd.crosstab(df['survived'],df['sex'],normalize='index'))"
   ]
  },
  {
   "cell_type": "markdown",
   "id": "f306954a-c711-438f-9480-8e2d0f0a1f23",
   "metadata": {},
   "source": [
    "__As we can see that, probability of getting survived given being a female is 74.20%\n",
    "And probability of being female considering a person's already survived is 68.12%__"
   ]
  },
  {
   "cell_type": "code",
   "execution_count": 21,
   "id": "eea0519b-315c-48a8-8de3-d6217a3810b4",
   "metadata": {},
   "outputs": [
    {
     "name": "stdout",
     "output_type": "stream",
     "text": [
      "0.09606669176903894\n",
      "-0.0907303639409494\n"
     ]
    }
   ],
   "source": [
    "#correlation\n",
    "cor=df['age'].corr(df['fare'])\n",
    "print(cor)\n",
    "df_new=df.dropna()\n",
    "cor=df_new['age'].corr(df_new['fare'])\n",
    "print(cor)"
   ]
  },
  {
   "cell_type": "markdown",
   "id": "edd73685-5b45-4f75-8db7-80ed2ed1240d",
   "metadata": {},
   "source": [
    "__As we can see that, after removing null values, correlation changed drastically. Now actually with age and fare there's negative correlation i.e; if one entity increases other value tends to decreases and the strength of correlation is WEAK.__"
   ]
  },
  {
   "cell_type": "code",
   "execution_count": 23,
   "id": "5db0d98d-d548-42b6-93ea-d46c825cb64d",
   "metadata": {},
   "outputs": [
    {
     "data": {
      "image/png": "[encoded data removed]",
      "text/plain": [
       "<Figure size 800x600 with 2 Axes>"
      ]
     },
     "metadata": {},
     "output_type": "display_data"
    }
   ],
   "source": [
    "plt.figure(figsize=(8, 6))\n",
    "sns.heatmap(df_new[['age','fare']].corr(), annot=True, cmap='coolwarm', fmt=\".2f\")\n",
    "plt.title(\"Correlation Heatmap\")\n",
    "plt.show()"
   ]
  },
  {
   "cell_type": "code",
   "execution_count": 24,
   "id": "efc9a48f-160f-433c-8765-2399457a387b",
   "metadata": {},
   "outputs": [
    {
     "data": {
      "image/png": "[encoded data removed]",
      "text/plain": [
       "<Figure size 800x600 with 1 Axes>"
      ]
     },
     "metadata": {},
     "output_type": "display_data"
    }
   ],
   "source": [
    "plt.figure(figsize=(8, 6))\n",
    "sns.scatterplot(data=df_new, x='age', y='fare')\n",
    "plt.title(\"Scatter Plot\")\n",
    "plt.show()"
   ]
  },
  {
   "cell_type": "markdown",
   "id": "bcbff9eb-7c45-4cba-ade7-902f8635951d",
   "metadata": {},
   "source": [
    "__In scatter plot, we can see that there are some outliers present not following general trend and there are clusters present at the region fare=100.__"
   ]
  },
  {
   "cell_type": "code",
   "execution_count": 26,
   "id": "5a981a95-5f6b-49fd-ab22-198295b4b9b1",
   "metadata": {},
   "outputs": [
    {
     "data": {
      "image/png": "[encoded data removed]",
      "text/plain": [
       "<Figure size 640x480 with 1 Axes>"
      ]
     },
     "metadata": {},
     "output_type": "display_data"
    }
   ],
   "source": [
    "table = pd.crosstab(df['survived'], df['class'])\n",
    "table.plot(kind='bar', stacked=True, colormap='Paired')\n",
    "plt.xlabel('class')\n",
    "plt.ylabel('count')\n",
    "plt.show()"
   ]
  },
  {
   "cell_type": "markdown",
   "id": "32683c70-2c7f-4d9e-bdb2-034165d434d0",
   "metadata": {},
   "source": [
    "__clearly, First class passengers are having higher survival rate than remaining other classes. This may be due to prizes offered for saving their lives.__"
   ]
  }
 ],
 "metadata": {
  "kernelspec": {
   "display_name": "Python 3 (ipykernel)",
   "language": "python",
   "name": "python3"
  },
  "language_info": {
   "codemirror_mode": {
    "name": "ipython",
    "version": 3
   },
   "file_extension": ".py",
   "mimetype": "text/x-python",
   "name": "python",
   "nbconvert_exporter": "python",
   "pygments_lexer": "ipython3",
   "version": "3.11.7"
  }
 },
 "nbformat": 4,
 "nbformat_minor": 5
}
